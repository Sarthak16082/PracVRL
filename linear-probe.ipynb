{
 "cells": [
  {
   "cell_type": "code",
   "execution_count": null,
   "metadata": {},
   "outputs": [],
   "source": [
    "\"\"\"\n",
    "Using kaggle here is recommended, these are huge downloads otherwise \n",
    "features_train:\n",
    "https://www.kaggle.com/sarthak1682/models/features_train\n",
    "labels_train:\n",
    "https://www.kaggle.com/sarthak1682/models/labels_train\n",
    "features_val:\n",
    "https://www.kaggle.com/sarthak1682/models/features_val\n",
    "labels_val:\n",
    "https://www.kaggle.com/sarthak1682/models/labels_val\n",
    "\"\"\""
   ]
  },
  {
   "cell_type": "code",
   "execution_count": 2,
   "metadata": {
    "execution": {
     "iopub.execute_input": "2025-07-13T18:00:52.900300Z",
     "iopub.status.busy": "2025-07-13T18:00:52.899570Z",
     "iopub.status.idle": "2025-07-13T18:00:52.905694Z",
     "shell.execute_reply": "2025-07-13T18:00:52.905012Z",
     "shell.execute_reply.started": "2025-07-13T18:00:52.900274Z"
    },
    "trusted": true
   },
   "outputs": [
    {
     "name": "stdout",
     "output_type": "stream",
     "text": [
      "Using device: cuda\n"
     ]
    }
   ],
   "source": [
    "import torch\n",
    "import torch.nn as nn\n",
    "import torch.optim as optim\n",
    "from sklearn.model_selection import train_test_split\n",
    "import numpy as np\n",
    "import matplotlib.pyplot as plt\n",
    "import gc\n",
    "\n",
    "device = torch.device('cuda' if torch.cuda.is_available() else 'cpu')\n",
    "print(f\"Using device: {device}\")\n",
    "\n",
    "BATCH_SIZE = 256\n",
    "CHUNK_SIZE = 10000\n",
    "\n",
    "PATHS = {\n",
    "    'features_train': \"/kaggle/input/all_features_combined/pytorch/default/1/all_features_combined.pt\", \n",
    "    'features_val': \"/kaggle/input/features_val/pytorch/default/1/features_val.pt\",\n",
    "    'labels_train': \"/kaggle/input/all_labels_combined/pytorch/default/1/all_labels_combined.pt\",\n",
    "    'labels_val': \"/kaggle/input/labels_val/pytorch/default/1/labels_val.pt\"\n",
    "}\n"
   ]
  },
  {
   "cell_type": "code",
   "execution_count": null,
   "metadata": {
    "execution": {
     "iopub.execute_input": "2025-07-13T18:01:03.055725Z",
     "iopub.status.busy": "2025-07-13T18:01:03.055098Z",
     "iopub.status.idle": "2025-07-13T18:01:30.121212Z",
     "shell.execute_reply": "2025-07-13T18:01:30.120699Z",
     "shell.execute_reply.started": "2025-07-13T18:01:03.055697Z"
    },
    "trusted": true
   },
   "outputs": [],
   "source": [
    "def load_data():\n",
    "    print(\"Loading data...\")\n",
    "\n",
    "    f_train = torch.load(PATHS['features_train'])\n",
    "    l_train = torch.load(PATHS['labels_train'])\n",
    "    f_val = torch.load(PATHS['features_val'])\n",
    "    l_val = torch.load(PATHS['labels_val'])\n",
    "\n",
    "    features = torch.cat([f_train, f_val])\n",
    "    labels = torch.cat([l_train, l_val])\n",
    "\n",
    "    train_size = len(f_train)\n",
    "    val_size = len(f_val)\n",
    "\n",
    "    train_idx = np.arange(train_size)\n",
    "    val_idx_raw, test_idx_raw = train_test_split(\n",
    "        np.arange(val_size), test_size=0.5, stratify=l_val.numpy(), random_state=42\n",
    "    )\n",
    "    val_idx = train_size + val_idx_raw\n",
    "    test_idx = train_size + test_idx_raw\n",
    "\n",
    "    labels_np = labels.numpy()\n",
    "    unique = np.unique(labels_np)\n",
    "    if unique.min() != 0 or unique.max() != len(unique) - 1:\n",
    "        remap = {v: i for i, v in enumerate(unique)}\n",
    "        labels_np = np.array([remap[y] for y in labels_np])\n",
    "\n",
    "    del f_train, f_val, l_train, l_val\n",
    "    gc.collect()\n",
    "    torch.cuda.empty_cache()\n",
    "\n",
    "    return features, labels_np, train_idx, val_idx, test_idx, len(unique)\n",
    "\n",
    "features, labels_np, train_idx, val_idx, test_idx, num_classes = load_data()\n"
   ]
  },
  {
   "cell_type": "code",
   "execution_count": null,
   "metadata": {
    "execution": {
     "iopub.execute_input": "2025-07-13T18:23:59.230975Z",
     "iopub.status.busy": "2025-07-13T18:23:59.230696Z",
     "iopub.status.idle": "2025-07-13T18:24:29.231814Z",
     "shell.execute_reply": "2025-07-13T18:24:29.231187Z",
     "shell.execute_reply.started": "2025-07-13T18:23:59.230956Z"
    },
    "trusted": true
   },
   "outputs": [],
   "source": [
    "def normalize(features, train_idx):\n",
    "    print(\"Normalizing features...\")\n",
    "\n",
    "    dim = features.shape[1]\n",
    "    mean, var, total = torch.zeros(dim), torch.zeros(dim), 0\n",
    "\n",
    "    for i in range(0, len(train_idx), CHUNK_SIZE):\n",
    "        idx = train_idx[i:i+CHUNK_SIZE]\n",
    "        batch = features[idx]\n",
    "        mean += batch.sum(0)\n",
    "        var += (batch ** 2).sum(0)\n",
    "        total += len(batch)\n",
    "        del batch\n",
    "        gc.collect()\n",
    "\n",
    "    mean /= total\n",
    "    std = torch.sqrt((var / total) - (mean ** 2) + 1e-8)\n",
    "\n",
    "    for i in range(0, features.shape[0], CHUNK_SIZE):\n",
    "        features[i:i+CHUNK_SIZE] = (features[i:i+CHUNK_SIZE] - mean) / std\n",
    "        if i % (CHUNK_SIZE * 2) == 0:\n",
    "            gc.collect()\n",
    "\n",
    "    print(\"Done\")\n",
    "    return features\n",
    "\n",
    "features = normalize(features, train_idx)\n"
   ]
  },
  {
   "cell_type": "code",
   "execution_count": 5,
   "metadata": {
    "execution": {
     "iopub.execute_input": "2025-07-13T18:24:29.233131Z",
     "iopub.status.busy": "2025-07-13T18:24:29.232912Z",
     "iopub.status.idle": "2025-07-13T18:24:29.237064Z",
     "shell.execute_reply": "2025-07-13T18:24:29.236388Z",
     "shell.execute_reply.started": "2025-07-13T18:24:29.233115Z"
    },
    "trusted": true
   },
   "outputs": [],
   "source": [
    "class LinearProbe(nn.Module):\n",
    "    def __init__(self, in_dim, out_dim):\n",
    "        super().__init__()\n",
    "        self.fc = nn.Linear(in_dim, out_dim)\n",
    "    def forward(self, x):\n",
    "        return self.fc(x)\n"
   ]
  },
  {
   "cell_type": "code",
   "execution_count": 6,
   "metadata": {
    "execution": {
     "iopub.execute_input": "2025-07-13T18:24:29.237834Z",
     "iopub.status.busy": "2025-07-13T18:24:29.237671Z",
     "iopub.status.idle": "2025-07-13T18:24:29.256506Z",
     "shell.execute_reply": "2025-07-13T18:24:29.255955Z",
     "shell.execute_reply.started": "2025-07-13T18:24:29.237820Z"
    },
    "trusted": true
   },
   "outputs": [],
   "source": [
    "def evaluate(model, features, labels, idx):\n",
    "    model.eval()\n",
    "    correct, total = 0, 0\n",
    "    with torch.no_grad():\n",
    "        for i in range(0, len(idx), BATCH_SIZE):\n",
    "            X = features[idx[i:i+BATCH_SIZE]].to(device)\n",
    "            y = torch.LongTensor(labels[idx[i:i+BATCH_SIZE]]).to(device)\n",
    "            out = model(X)\n",
    "            pred = out.argmax(1)\n",
    "            correct += (pred == y).sum().item()\n",
    "            total += len(y)\n",
    "            del X, y, out, pred\n",
    "            torch.cuda.empty_cache()\n",
    "    return correct / total\n",
    "\n",
    "def evaluate_all(model, features, labels, train_idx, val_idx, test_idx):\n",
    "    results = {\n",
    "        'train': evaluate(model, features, labels, train_idx),\n",
    "        'val': evaluate(model, features, labels, val_idx),\n",
    "        'test': evaluate(model, features, labels, test_idx)\n",
    "    }\n",
    "    print(\"\\nFinal Accuracy:\")\n",
    "    for k, v in results.items():\n",
    "        print(f\"{k.capitalize()}: {v:.4f} ({v*100:.2f}%)\")\n",
    "    print(f\"Generalization Gap: {(results['train'] - results['test'])*100:.2f}%\")\n",
    "    return results\n"
   ]
  },
  {
   "cell_type": "code",
   "execution_count": 8,
   "metadata": {
    "execution": {
     "iopub.execute_input": "2025-07-13T18:26:52.847772Z",
     "iopub.status.busy": "2025-07-13T18:26:52.847196Z",
     "iopub.status.idle": "2025-07-13T18:48:57.202958Z",
     "shell.execute_reply": "2025-07-13T18:48:57.202293Z",
     "shell.execute_reply.started": "2025-07-13T18:26:52.847745Z"
    },
    "trusted": true
   },
   "outputs": [
    {
     "name": "stdout",
     "output_type": "stream",
     "text": [
      "Epoch  10: Train Acc = 0.0308, Val Acc = 0.0266\n",
      "Epoch  20: Train Acc = 0.0359, Val Acc = 0.0272\n",
      "Epoch  30: Train Acc = 0.0392, Val Acc = 0.0308\n",
      "Epoch  40: Train Acc = 0.0414, Val Acc = 0.0316\n",
      "Epoch  50: Train Acc = 0.0434, Val Acc = 0.0311\n",
      "Epoch  60: Train Acc = 0.0449, Val Acc = 0.0314\n",
      "Epoch  70: Train Acc = 0.0460, Val Acc = 0.0332\n",
      "Epoch  80: Train Acc = 0.0475, Val Acc = 0.0338\n",
      "Epoch  90: Train Acc = 0.0486, Val Acc = 0.0341\n",
      "Epoch 100: Train Acc = 0.0494, Val Acc = 0.0348\n"
     ]
    }
   ],
   "source": [
    "def train(features, labels, train_idx, val_idx, test_idx, num_classes):\n",
    "    model = LinearProbe(features.shape[1], num_classes).to(device)\n",
    "    optimizer = optim.Adam(model.parameters(), lr=0.001)\n",
    "    loss_fn = nn.CrossEntropyLoss()\n",
    "\n",
    "    best_val, patience = 0, 0\n",
    "    train_acc_list, val_acc_list = [], []\n",
    "\n",
    "    for epoch in range(100):\n",
    "        model.train()\n",
    "        np.random.shuffle(train_idx)\n",
    "        correct, total = 0, 0\n",
    "\n",
    "        for i in range(0, len(train_idx), BATCH_SIZE):\n",
    "            idx = train_idx[i:i+BATCH_SIZE]\n",
    "            X = features[idx].to(device)\n",
    "            y = torch.LongTensor(labels[idx]).to(device)\n",
    "\n",
    "            optimizer.zero_grad()\n",
    "            out = model(X)\n",
    "            loss = loss_fn(out, y)\n",
    "            loss.backward()\n",
    "            optimizer.step()\n",
    "\n",
    "            pred = out.argmax(1)\n",
    "            correct += (pred == y).sum().item()\n",
    "            total += len(y)\n",
    "\n",
    "            del X, y, out, pred, loss\n",
    "            torch.cuda.empty_cache()\n",
    "\n",
    "        train_acc = correct / total\n",
    "\n",
    "        if (epoch + 1) % 10 == 0:\n",
    "            val_acc = evaluate(model, features, labels, val_idx)\n",
    "            train_acc_list.append(train_acc)\n",
    "            val_acc_list.append(val_acc)\n",
    "            print(f\"Epoch {epoch+1:3d}: Train Acc = {train_acc:.4f}, Val Acc = {val_acc:.4f}\")\n",
    "\n",
    "            if val_acc > best_val:\n",
    "                best_val = val_acc\n",
    "                patience = 0\n",
    "                best_state = model.state_dict()\n",
    "            else:\n",
    "                patience += 1\n",
    "                if patience >= 10:\n",
    "                    print(\"Early stopping.\")\n",
    "                    break\n",
    "\n",
    "    if 'best_state' in locals():\n",
    "        model.load_state_dict(best_state)\n",
    "\n",
    "    return model, train_acc_list, val_acc_list\n",
    "\n",
    "model, train_curve, val_curve = train(features, labels_np, train_idx, val_idx, test_idx, num_classes)\n"
   ]
  },
  {
   "cell_type": "code",
   "execution_count": 9,
   "metadata": {
    "execution": {
     "iopub.execute_input": "2025-07-13T18:51:48.222159Z",
     "iopub.status.busy": "2025-07-13T18:51:48.221283Z",
     "iopub.status.idle": "2025-07-13T18:51:48.472300Z",
     "shell.execute_reply": "2025-07-13T18:51:48.471653Z",
     "shell.execute_reply.started": "2025-07-13T18:51:48.222132Z"
    },
    "trusted": true
   },
   "outputs": [
    {
     "data": {
      "image/png": "[encoded data removed]",
      "text/plain": [
       "<Figure size 800x500 with 1 Axes>"
      ]
     },
     "metadata": {},
     "output_type": "display_data"
    }
   ],
   "source": [
    "def plot_curves(train_acc_list, val_acc_list):\n",
    "    plt.figure(figsize=(8, 5))\n",
    "    plt.plot(train_acc_list, label='Train Accuracy', marker='o')\n",
    "    plt.plot(val_acc_list, label='Val Accuracy', marker='x')\n",
    "    plt.xlabel('Epochs (x10)')\n",
    "    plt.ylabel('Accuracy')\n",
    "    plt.title('Training vs Validation Accuracy')\n",
    "    plt.legend()\n",
    "    plt.grid(True)\n",
    "    plt.tight_layout()\n",
    "    plt.show()\n",
    "\n",
    "plot_curves(train_curve, val_curve)\n"
   ]
  },
  {
   "cell_type": "code",
   "execution_count": 10,
   "metadata": {
    "execution": {
     "iopub.execute_input": "2025-07-13T18:51:52.998002Z",
     "iopub.status.busy": "2025-07-13T18:51:52.997731Z",
     "iopub.status.idle": "2025-07-13T18:51:58.726670Z",
     "shell.execute_reply": "2025-07-13T18:51:58.725984Z",
     "shell.execute_reply.started": "2025-07-13T18:51:52.997983Z"
    },
    "trusted": true
   },
   "outputs": [
    {
     "name": "stdout",
     "output_type": "stream",
     "text": [
      "\n",
      "Final Accuracy:\n",
      "Train: 0.0520 (5.20%)\n",
      "Val: 0.0348 (3.48%)\n",
      "Test: 0.0331 (3.31%)\n",
      "Generalization Gap: 1.88%\n",
      "Saved results to 'features_probe_results.pt'\n"
     ]
    }
   ],
   "source": [
    "results = evaluate_all(model, features, labels_np, train_idx, val_idx, test_idx)\n",
    "\n",
    "torch.save({\n",
    "    'results': results,\n",
    "    'num_classes': num_classes,\n",
    "    'feature_dim': features.shape[1],\n",
    "    'data_sizes': {\n",
    "        'train': len(train_idx),\n",
    "        'val': len(val_idx),\n",
    "        'test': len(test_idx)\n",
    "    }\n",
    "}, 'features_probe_results.pt')\n",
    "\n",
    "print(\"Saved results to 'features_probe_results.pt'\")\n"
   ]
  }
 ],
 "metadata": {
  "kaggle": {
   "accelerator": "gpu",
   "dataSources": [
    {
     "isSourceIdPinned": true,
     "modelId": 391359,
     "modelInstanceId": 370459,
     "sourceId": 456856,
     "sourceType": "modelInstanceVersion"
    },
    {
     "isSourceIdPinned": true,
     "modelId": 391362,
     "modelInstanceId": 370462,
     "sourceId": 456862,
     "sourceType": "modelInstanceVersion"
    },
    {
     "isSourceIdPinned": true,
     "modelId": 391377,
     "modelInstanceId": 370477,
     "sourceId": 456888,
     "sourceType": "modelInstanceVersion"
    },
    {
     "isSourceIdPinned": true,
     "modelId": 399429,
     "modelInstanceId": 379502,
     "sourceId": 470420,
     "sourceType": "modelInstanceVersion"
    },
    {
     "isSourceIdPinned": true,
     "modelId": 399433,
     "modelInstanceId": 379508,
     "sourceId": 470427,
     "sourceType": "modelInstanceVersion"
    },
    {
     "isSourceIdPinned": true,
     "modelId": 399435,
     "modelInstanceId": 379510,
     "sourceId": 470430,
     "sourceType": "modelInstanceVersion"
    }
   ],
   "dockerImageVersionId": 31090,
   "isGpuEnabled": true,
   "isInternetEnabled": true,
   "language": "python",
   "sourceType": "notebook"
  },
  "kernelspec": {
   "display_name": "Python 3",
   "language": "python",
   "name": "python3"
  },
  "language_info": {
   "codemirror_mode": {
    "name": "ipython",
    "version": 3
   },
   "file_extension": ".py",
   "mimetype": "text/x-python",
   "name": "python",
   "nbconvert_exporter": "python",
   "pygments_lexer": "ipython3",
   "version": "3.11.13"
  }
 },
 "nbformat": 4,
 "nbformat_minor": 4
}
